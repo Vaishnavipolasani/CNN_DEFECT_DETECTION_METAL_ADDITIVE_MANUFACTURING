{
 "cells": [
  {
   "cell_type": "code",
   "execution_count": 2,
   "metadata": {},
   "outputs": [
    {
     "ename": "AttributeError",
     "evalue": "module 'cv2' has no attribute 'COLOR_GRAY2GRAY'",
     "output_type": "error",
     "traceback": [
      "\u001b[1;31m---------------------------------------------------------------------------\u001b[0m",
      "\u001b[1;31mAttributeError\u001b[0m                            Traceback (most recent call last)",
      "Cell \u001b[1;32mIn[2], line 35\u001b[0m\n\u001b[0;32m     32\u001b[0m cv2\u001b[38;5;241m.\u001b[39mdestroyAllWindows()\n\u001b[0;32m     34\u001b[0m \u001b[38;5;66;03m# Convert the image to grayscale (it's already in grayscale, but this is for demonstration purposes)\u001b[39;00m\n\u001b[1;32m---> 35\u001b[0m gray_image \u001b[38;5;241m=\u001b[39m cv2\u001b[38;5;241m.\u001b[39mcvtColor(gas_image, \u001b[43mcv2\u001b[49m\u001b[38;5;241;43m.\u001b[39;49m\u001b[43mCOLOR_GRAY2GRAY\u001b[49m)\n\u001b[0;32m     37\u001b[0m \u001b[38;5;66;03m# Iterate through each pixel in the image\u001b[39;00m\n\u001b[0;32m     38\u001b[0m \u001b[38;5;28;01mfor\u001b[39;00m i \u001b[38;5;129;01min\u001b[39;00m \u001b[38;5;28mrange\u001b[39m(gray_image\u001b[38;5;241m.\u001b[39mshape[\u001b[38;5;241m0\u001b[39m]):\n",
      "\u001b[1;31mAttributeError\u001b[0m: module 'cv2' has no attribute 'COLOR_GRAY2GRAY'"
     ]
    }
   ],
   "source": [
    "import glob\n",
    "import cv2\n",
    "import numpy as np\n",
    "\n",
    "\n",
    "def load_data(label_type):\n",
    "    path = f'./{label_type.lower()}/*.tif'\n",
    "    labels = []\n",
    "    images = []\n",
    "    for file in glob.glob(path):\n",
    "        img = cv2.imread(file, cv2.IMREAD_GRAYSCALE)\n",
    "        if img is not None:\n",
    "            images.append(img)\n",
    "            if label_type.lower() == \"lof\":\n",
    "                labels.append(0)\n",
    "            elif label_type.lower() == \"gas\":\n",
    "                labels.append(1)\n",
    "    return np.array(images), np.array(labels)\n",
    "\n",
    "\n",
    "lof_images, lof_labels = load_data('lof')\n",
    "gas_images, gas_labels = load_data('gas')\n",
    "\n",
    "if len(lof_images) == 0 or len(gas_images) == 0:\n",
    "    print(\"No images were loaded. Please check the file paths and ensure there are images in the specified directories.\")\n",
    "    exit()\n",
    "\n",
    "# Print the first image from the 'gas' folder\n",
    "gas_image = gas_images[0]\n",
    "cv2.imshow('Gas Image', gas_image)\n",
    "cv2.waitKey(0)\n",
    "cv2.destroyAllWindows()\n",
    "\n",
    "# Convert the image to grayscale (it's already in grayscale, but this is for demonstration purposes)\n",
    "gray_image = cv2.cvtColor(gas_image, cv2.COLOR_GRAY2GRAY)\n",
    "\n",
    "# Iterate through each pixel in the image\n",
    "for i in range(gray_image.shape[0]):\n",
    "    for j in range(gray_image.shape[1]):\n",
    "        # Print the pixel value\n",
    "        print(f'Pixel value at ({i}, {j}): {gray_image[i, j]}')\n",
    "        # Check if the pixel is white (i.e., has a value of 255)\n",
    "        if gray_image[i, j] == 255:\n",
    "            # If the white dot is found, print the result and exit the loop\n",
    "            print('Gas detected')\n",
    "            exit()\n",
    "\n",
    "# If the white dot is not found, print the result\n",
    "print('No gas detected')"
   ]
  }
 ],
 "metadata": {
  "kernelspec": {
   "display_name": "Python 3",
   "language": "python",
   "name": "python3"
  },
  "language_info": {
   "codemirror_mode": {
    "name": "ipython",
    "version": 3
   },
   "file_extension": ".py",
   "mimetype": "text/x-python",
   "name": "python",
   "nbconvert_exporter": "python",
   "pygments_lexer": "ipython3",
   "version": "3.11.4"
  }
 },
 "nbformat": 4,
 "nbformat_minor": 2
}
